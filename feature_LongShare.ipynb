{
 "cells": [
  {
   "cell_type": "code",
   "execution_count": null,
   "metadata": {},
   "outputs": [],
   "source": [
    "import pandas as pd\n",
    "import gc\n",
    "from array import array\n",
    "df_train =pd.read_csv('/home/kesci/input/bytedance/train_final.csv',names=['qId','q','aId','a','target'],nrows=50000000)\n",
    "df_test=pd.read_csv('/home/kesci/input/bytedance/bytedance_contest.final_2.csv',names=['qId','q','aId','a'])\n",
    "df_test['a']=df_test['a'].apply(lambda x:x[:-1])"
   ]
  },
  {
   "cell_type": "code",
   "execution_count": null,
   "metadata": {},
   "outputs": [],
   "source": [
    "df1=df_train[['q','a']].iloc[0:10000000,]\n",
    "df2=df_train[['q','a']].iloc[10000000:20000000,]\n",
    "df3=df_train[['q','a']].iloc[20000000:30000000,]\n",
    "df4=df_train[['q','a']].iloc[30000000:40000000,]\n",
    "df5=df_train[['q','a']].iloc[40000000:50000000,]\n",
    "\n",
    "df6=df_test[['q','a']].iloc[0:10000000,]\n",
    "df7=df_test[['q','a']].iloc[10000000:20000000,]\n",
    "df8=df_test[['q','a']].iloc[20000000:30000000,]\n",
    "df9=df_test[['q','a']].iloc[30000000:40000000,]\n",
    "df10=df_test[['q','a']].iloc[40000000:50000000,]\n",
    "df11=df_test[['q','a']].iloc[50000000:60000000,]\n",
    "df12=df_test[['q','a']].iloc[60000000:70000000,]\n",
    "df13=df_test[['q','a']].iloc[70000000:80000000,]\n",
    "df14=df_test[['q','a']].iloc[80000000:90000000,]\n",
    "df15=df_test[['q','a']].iloc[90000000:,]"
   ]
  },
  {
   "cell_type": "code",
   "execution_count": null,
   "metadata": {},
   "outputs": [],
   "source": [
    "def lcsubstrings(seq1, seq2, positions=False):\n",
    "    \n",
    "    L1, L2 = len(seq1), len(seq2)\n",
    "    ms = []\n",
    "    mlen = last = 0\n",
    "    if L1 < L2:\n",
    "        seq1, seq2 = seq2, seq1\n",
    "        L1, L2 = L2, L1\n",
    "\n",
    "    column = array('L', range(L2))\n",
    "\n",
    "    for i in range(L1):\n",
    "        for j in range(L2):\n",
    "            old = column[j]\n",
    "            if seq1[i] == seq2[j]:\n",
    "                if i == 0 or j == 0:\n",
    "                    column[j] = 1\n",
    "                else:\n",
    "                    column[j] = last + 1\n",
    "                if column[j] > mlen:\n",
    "                    mlen = column[j]\n",
    "                    ms = [(i, j)]\n",
    "                elif column[j] == mlen:\n",
    "                    ms.append((i, j))\n",
    "            else:\n",
    "                column[j] = 0\n",
    "            last = old\n",
    "    if positions:\n",
    "        return (mlen, tuple((i - mlen + 1, j - mlen + 1) for i, j in ms if ms))\n",
    "    return list(seq1[i - mlen + 1:i + 1] for i, _ in ms if ms)"
   ]
  },
  {
   "cell_type": "code",
   "execution_count": null,
   "metadata": {},
   "outputs": [],
   "source": [
    "def longest_substr_ratio_fun(df):\n",
    "    print('start')\n",
    "    result=[]\n",
    "    def _get_longest_substr_ratio(a, b):\n",
    "        a = a.split()\n",
    "        b = b.split()\n",
    "        strs = lcsubstrings(a, b)\n",
    "        if len(strs) == 0:\n",
    "            result.append([0,0])\n",
    "        else:\n",
    "            la = len(a)\n",
    "            lb = len(b)\n",
    "            result.append([len(strs[0]) / (min(la, lb) + 1), len(strs[0]) / (la + 1)])\n",
    "    df[['q', 'a']].apply(lambda row: _get_longest_substr_ratio(row['q'], row['a']), axis=1)\n",
    "    return pd.DataFrame(result)\n",
    "    "
   ]
  },
  {
   "cell_type": "code",
   "execution_count": null,
   "metadata": {},
   "outputs": [],
   "source": [
    "del df_train,df_test\n",
    "import gc\n",
    "gc.collect()\n",
    "from multiprocessing import cpu_count\n",
    "from multiprocessing import Pool\n",
    "print(cpu_count())\n",
    "p= Pool(15)\n",
    "df1=p.apply_async(longest_substr_ratio_fun, args=(df1,))\n",
    "df2=p.apply_async(longest_substr_ratio_fun, args=(df2,))\n",
    "df3=p.apply_async(longest_substr_ratio_fun, args=(df3,))\n",
    "df4=p.apply_async(longest_substr_ratio_fun, args=(df4,))\n",
    "df5=p.apply_async(longest_substr_ratio_fun, args=(df5,))\n",
    "df6=p.apply_async(longest_substr_ratio_fun, args=(df6,))\n",
    "df7=p.apply_async(longest_substr_ratio_fun, args=(df7,))\n",
    "df8=p.apply_async(longest_substr_ratio_fun, args=(df8,))\n",
    "df9=p.apply_async(longest_substr_ratio_fun, args=(df9,))\n",
    "df10=p.apply_async(longest_substr_ratio_fun, args=(df10,))\n",
    "df11=p.apply_async(longest_substr_ratio_fun, args=(df11,))\n",
    "df12=p.apply_async(longest_substr_ratio_fun, args=(df12,))\n",
    "df13=p.apply_async(longest_substr_ratio_fun, args=(df13,))\n",
    "df14=p.apply_async(longest_substr_ratio_fun, args=(df14,))\n",
    "df15=p.apply_async(longest_substr_ratio_fun, args=(df15,))\n",
    "p.close()\n",
    "p.join()"
   ]
  },
  {
   "cell_type": "code",
   "execution_count": null,
   "metadata": {},
   "outputs": [],
   "source": [
    "df1=df1.get()\n",
    "df2=df2.get()\n",
    "df3=df3.get()\n",
    "df4=df4.get()\n",
    "df5=df5.get()\n",
    "df6=df6.get()\n",
    "df7=df7.get()\n",
    "df8=df8.get()\n",
    "df9=df9.get()\n",
    "df10=df10.get()\n",
    "df11=df11.get()\n",
    "df12=df12.get()\n",
    "df13=df13.get()\n",
    "df14=df14.get()\n",
    "df15=df15.get()"
   ]
  },
  {
   "cell_type": "code",
   "execution_count": null,
   "metadata": {},
   "outputs": [],
   "source": [
    "train=pd.concat([df1,df2,df3,df4,df5])\n",
    "test=pd.concat([df6,df7,df8,df9,df10,df11,df12,df13,df14,df15])\n",
    "train.columns=['sharem','sharea']\n",
    "test.columns=['sharem','sharea']\n",
    "train.to_csv('/home/kesci/work/train_feature_ShareR_final.csv',index=False)\n",
    "test.to_csv('/home/kesci/work/test_feature_ShareR_final.csv',index=False)"
   ]
  },
  {
   "cell_type": "code",
   "execution_count": null,
   "metadata": {},
   "outputs": [],
   "source": []
  }
 ],
 "metadata": {
  "kernelspec": {
   "display_name": "Python 3",
   "language": "python",
   "name": "python3"
  },
  "language_info": {
   "codemirror_mode": {
    "name": "ipython",
    "version": 3
   },
   "file_extension": ".py",
   "mimetype": "text/x-python",
   "name": "python",
   "nbconvert_exporter": "python",
   "pygments_lexer": "ipython3",
   "version": "3.6.7"
  }
 },
 "nbformat": 4,
 "nbformat_minor": 2
}
