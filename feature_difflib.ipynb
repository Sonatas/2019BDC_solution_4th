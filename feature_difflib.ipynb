{
 "cells": [
  {
   "cell_type": "code",
   "execution_count": null,
   "metadata": {},
   "outputs": [],
   "source": [
    "import difflib\n",
    "def difflib_fun(df):\n",
    "    print('start')\n",
    "    df_feat=pd.DataFrame()\n",
    "    def diff_ratios(row):\n",
    "        seq = difflib.SequenceMatcher()\n",
    "        seq.set_seqs(row.q, row.a)\n",
    "        return seq.ratio()\n",
    "    df_feat['diff_ratios'] = df.apply(diff_ratios, axis=1)\n",
    "    print('done')\n",
    "    return df_feat"
   ]
  },
  {
   "cell_type": "code",
   "execution_count": null,
   "metadata": {},
   "outputs": [],
   "source": [
    "from multiprocessing import cpu_count\n",
    "from multiprocessing import Pool\n",
    "print(cpu_count())\n",
    "p= Pool(15)\n",
    "df1=p.apply_async(difflib_fun, args=(df1,))\n",
    "df2=p.apply_async(difflib_fun, args=(df2,))\n",
    "df3=p.apply_async(difflib_fun, args=(df3,))\n",
    "df4=p.apply_async(difflib_fun, args=(df4,))\n",
    "df5=p.apply_async(difflib_fun, args=(df5,))\n",
    "df6=p.apply_async(difflib_fun, args=(df6,))\n",
    "df7=p.apply_async(difflib_fun, args=(df7,))\n",
    "df8=p.apply_async(difflib_fun, args=(df8,))\n",
    "df9=p.apply_async(difflib_fun, args=(df9,))\n",
    "df10=p.apply_async(difflib_fun, args=(df10,))\n",
    "df11=p.apply_async(difflib_fun, args=(df11,))\n",
    "df12=p.apply_async(difflib_fun, args=(df12,))\n",
    "df13=p.apply_async(difflib_fun, args=(df13,))\n",
    "df14=p.apply_async(difflib_fun, args=(df14,))\n",
    "df15=p.apply_async(difflib_fun, args=(df15,))\n",
    "p.close()\n",
    "p.join()"
   ]
  },
  {
   "cell_type": "code",
   "execution_count": null,
   "metadata": {},
   "outputs": [],
   "source": [
    "df1=df1.get()\n",
    "df2=df2.get()\n",
    "df3=df3.get()\n",
    "df4=df4.get()\n",
    "df5=df5.get()\n",
    "df6=df6.get()\n",
    "df7=df7.get()\n",
    "df8=df8.get()\n",
    "df9=df9.get()\n",
    "df10=df10.get()\n",
    "df11=df11.get()\n",
    "df12=df12.get()\n",
    "df13=df13.get()\n",
    "df14=df14.get()\n",
    "df15=df15.get()"
   ]
  },
  {
   "cell_type": "code",
   "execution_count": null,
   "metadata": {},
   "outputs": [],
   "source": [
    "train=pd.concat([df1,df2,df3,df4,df5])\n",
    "test=pd.concat([df6,df7,df8,df9,df10,df11,df12,df13,df14,df15])"
   ]
  },
  {
   "cell_type": "code",
   "execution_count": null,
   "metadata": {},
   "outputs": [],
   "source": [
    "train.to_csv('/home/kesci/work/train_feature_difflib_final.csv',index=False)\n",
    "test.to_csv('/home/kesci/work/test_feature_difflib_final.csv',index=False)"
   ]
  },
  {
   "cell_type": "code",
   "execution_count": null,
   "metadata": {},
   "outputs": [],
   "source": []
  },
  {
   "cell_type": "code",
   "execution_count": null,
   "metadata": {},
   "outputs": [],
   "source": []
  }
 ],
 "metadata": {
  "kernelspec": {
   "display_name": "Python 3",
   "language": "python",
   "name": "python3"
  },
  "language_info": {
   "codemirror_mode": {
    "name": "ipython",
    "version": 3
   },
   "file_extension": ".py",
   "mimetype": "text/x-python",
   "name": "python",
   "nbconvert_exporter": "python",
   "pygments_lexer": "ipython3",
   "version": "3.6.7"
  }
 },
 "nbformat": 4,
 "nbformat_minor": 2
}
