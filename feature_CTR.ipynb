{
 "cells": [
  {
   "cell_type": "code",
   "execution_count": null,
   "metadata": {},
   "outputs": [],
   "source": [
    "import pandas as pd\n",
    "import gc\n",
    "train =pd.read_csv('/home/kesci/input/bytedance/train_final.csv',names=['qId','q','aId','a','target'],chunksize=100000000)\n",
    "\n",
    "result=pd.DataFrame()\n",
    "i=1\n",
    "for data in train:\n",
    "    data.drop(['q','qId','aId'],axis=1,inplace=True)\n",
    "    data['num']=1\n",
    "    data=data.groupby('a').agg('sum').reset_index()\n",
    "    data.to_csv('/home/kesci/work/CTR+'str(i)+'.csv',index=False)\n",
    "    i+=1\n",
    "result=pd.DataFrame()\n",
    "for i in range(1,11):\n",
    "    train =pd.read_csv('/home/kesci/work/CTR+'str(i)+'.csv')\n",
    "    result=pd.concat([result,train])\n",
    "result=result.groupby('a').agg('sum').reset_index()\n",
    "result.to_csv('/home/kesci/work/CTR.csv',index=False)"
   ]
  },
  {
   "cell_type": "code",
   "execution_count": null,
   "metadata": {},
   "outputs": [],
   "source": [
    "import pandas as pd\n",
    "import gc\n"
   ]
  },
  {
   "cell_type": "code",
   "execution_count": null,
   "metadata": {},
   "outputs": [],
   "source": [
    "result=pd.read_csv('/home/kesci/work/CTR.csv')\n",
    "df_train =pd.read_csv('/home/kesci/input/bytedance/train_final.csv',names=['qId','q','aId','a','target'],nrows=50000000)\n",
    "df_test =pd.read_csv('/home/kesci/input/bytedance/bytedance_contest.final_2.csv',names=['qId','q','aId','a'])\n",
    "df_test['a']=df_test['a'].apply(lambda x:x[:-1])\n"
   ]
  },
  {
   "cell_type": "code",
   "execution_count": null,
   "metadata": {},
   "outputs": [],
   "source": [
    "df_train=pd.merge(df_train,result,on='a',how='left')\n",
    "df_test=pd.merge(df_test,result,on='a',how='left')\n",
    "df_train['num']=df_train['num'].fillna(3)\n",
    "df_test['num']=df_test['num'].fillna(3)\n",
    "df_train['target']=df_train['target'].fillna(1)\n",
    "df_test['target']=df_test['target'].fillna(1)\n"
   ]
  },
  {
   "cell_type": "code",
   "execution_count": null,
   "metadata": {},
   "outputs": [],
   "source": [
    "df_train['num']=df_train['num']+1\n",
    "df_test['num']=df_test['num']+1\n",
    "df_train['CTR']=df_train['target']/df_train['num']\n",
    "df_test['CTR']=df_test['target']/df_test['num']\n",
    "df_train=pd.DataFrame(df_train['CTR'])\n",
    "df_test=pd.DataFrame(df_test['CTR'])\n"
   ]
  },
  {
   "cell_type": "code",
   "execution_count": null,
   "metadata": {},
   "outputs": [],
   "source": [
    "df_train.to_csv('/home/kesci/work/train_feature_CTR_final.csv',index=False)\n",
    "df_test.to_csv('/home/kesci/work/test_feature_CTR_final.csv',index=False)"
   ]
  }
 ],
 "metadata": {
  "kernelspec": {
   "display_name": "Python 3",
   "language": "python",
   "name": "python3"
  },
  "language_info": {
   "codemirror_mode": {
    "name": "ipython",
    "version": 3
   },
   "file_extension": ".py",
   "mimetype": "text/x-python",
   "name": "python",
   "nbconvert_exporter": "python",
   "pygments_lexer": "ipython3",
   "version": "3.6.7"
  }
 },
 "nbformat": 4,
 "nbformat_minor": 2
}
