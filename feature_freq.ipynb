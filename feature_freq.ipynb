{
 "cells": [
  {
   "cell_type": "code",
   "execution_count": null,
   "metadata": {},
   "outputs": [],
   "source": [
    "import pandas as pd\n",
    "import gc\n",
    "df_train =pd.read_csv('/home/kesci/input/bytedance/train_final.csv',names=['qId','q','aId','a','target'],nrows=100000000)\n",
    "df_test =pd.read_csv('/home/kesci/input/bytedance/bytedance_contest.final_2.csv',names=['qId','q','aId','a'])"
   ]
  },
  {
   "cell_type": "code",
   "execution_count": null,
   "metadata": {},
   "outputs": [],
   "source": [
    "df_test['a']=df_test['a'].apply(lambda x:x[:-1])\n",
    "df1 = df_train[['q']].copy()\n",
    "df2 = df_train[['a']].copy()\n",
    "df1_test = df_test[['q']].copy()\n",
    "df2_test = df_test[['a']].copy()\n",
    "df2.rename(columns = {'a':'q'},inplace=True)\n",
    "df2_test.rename(columns = {'a':'q'},inplace=True)\n"
   ]
  },
  {
   "cell_type": "code",
   "execution_count": null,
   "metadata": {},
   "outputs": [],
   "source": [
    "train_questions = df1.append(df2)\n",
    "train_questions = train_questions.append(df1_test)\n",
    "train_questions = train_questions.append(df2_test)\n",
    "train_questions.drop_duplicates(subset = ['q'],inplace=True)\n",
    "train_questions.reset_index(inplace=True,drop=True)\n",
    "questions_dict = pd.Series(train_questions.index.values,index=train_questions.q.values).to_dict()\n"
   ]
  },
  {
   "cell_type": "code",
   "execution_count": null,
   "metadata": {},
   "outputs": [],
   "source": [
    "train_cp = df_train.copy()\n",
    "test_cp = df_test.copy()\n",
    "train_cp.drop(['qId','aId'],axis=1,inplace=True)\n",
    "test_cp['target'] = -1\n",
    "test_cp.rename(columns={'aId':'id'},inplace=True)\n",
    "comb = pd.concat([train_cp,test_cp])\n",
    "comb['q1_hash'] = comb['q'].map(questions_dict)\n",
    "comb['q2_hash'] = comb['a'].map(questions_dict)\n",
    "q1_vc = comb.q1_hash.value_counts().to_dict()\n",
    "q2_vc = comb.q2_hash.value_counts().to_dict()\n"
   ]
  },
  {
   "cell_type": "code",
   "execution_count": null,
   "metadata": {},
   "outputs": [],
   "source": [
    "def try_apply_dict(x,dict_to_apply):\n",
    "    try:\n",
    "        return dict_to_apply[x]\n",
    "    except KeyError:\n",
    "        return 0\n",
    "comb['q1_freq'] = comb['q1_hash'].map(lambda x: try_apply_dict(x,q1_vc) + try_apply_dict(x,q2_vc))\n",
    "comb['q2_freq'] = comb['q2_hash'].map(lambda x: try_apply_dict(x,q1_vc) + try_apply_dict(x,q2_vc))\n"
   ]
  },
  {
   "cell_type": "code",
   "execution_count": null,
   "metadata": {},
   "outputs": [],
   "source": [
    "train_comb = comb[comb['target'] >= 0][['id','q1_hash','q2_hash','q1_freq','q2_freq','target']]\n",
    "test_comb = comb[comb['target'] < 0][['id','q1_hash','q2_hash','q1_freq','q2_freq']]\n"
   ]
  },
  {
   "cell_type": "code",
   "execution_count": null,
   "metadata": {},
   "outputs": [],
   "source": [
    "train_comb[['q1_freq', 'q2_freq']].to_csv('train_feature_freq_final.csv', index=False)\n",
    "test_comb[['q1_freq', 'q2_freq']].to_csv('test_feature_freq_final.csv', index=False)"
   ]
  },
  {
   "cell_type": "code",
   "execution_count": null,
   "metadata": {},
   "outputs": [],
   "source": []
  }
 ],
 "metadata": {
  "kernelspec": {
   "display_name": "Python 3",
   "language": "python",
   "name": "python3"
  },
  "language_info": {
   "codemirror_mode": {
    "name": "ipython",
    "version": 3
   },
   "file_extension": ".py",
   "mimetype": "text/x-python",
   "name": "python",
   "nbconvert_exporter": "python",
   "pygments_lexer": "ipython3",
   "version": "3.6.7"
  }
 },
 "nbformat": 4,
 "nbformat_minor": 2
}
