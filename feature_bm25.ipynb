{
 "cells": [
  {
   "cell_type": "code",
   "execution_count": null,
   "metadata": {},
   "outputs": [],
   "source": [
    "import math\n",
    "import pandas as pd\n",
    "import numpy as np\n",
    "import gc\n",
    "class bm25_Scorer(object):\n",
    "    def __init__(self, docs):\n",
    "        self.docs = docs\n",
    "        self.D = len(self.docs)\n",
    "        self.avgdl = sum([len(doc) for doc in self.docs]) / self.D\n",
    "        self.df = {}\n",
    "        self.idf = {}\n",
    "        self.k1 = 1.5\n",
    "        self.b = 0.75\n",
    "        self.initialize()\n",
    "\n",
    "    def initialize(self, ngram=1):\n",
    "        for doc in self.docs:\n",
    "            word_set = set(doc)\n",
    "            for word in word_set:\n",
    "                if word not in self.df:\n",
    "                    self.df[word] = 1\n",
    "                self.df[word] += 1\n",
    "        for k, v in self.df.items():\n",
    "            self.idf[k] = math.log(self.D - v + 0.5) - math.log(v + 0.5)\n",
    "    def sim(self, doc1, doc2):\n",
    "        score = 0\n",
    "        doc1=doc1.split()\n",
    "        doc2=doc2.split()\n",
    "        d = len(doc2)\n",
    "        loc = self.build_local_df(doc2)\n",
    "        for word in doc1:\n",
    "            if word not in loc:\n",
    "                continue\n",
    "            score += (self.idf[word] * loc[word] * (self.k1 + 1)\n",
    "                      / (loc[word] + self.k1 * (1 - self.b + self.b * d\n",
    "                                                / self.avgdl)))\n",
    "        return score\n",
    "\n",
    "    def build_local_df(self, doc):\n",
    "        tmp = {}\n",
    "        for word in doc:\n",
    "            if not word in tmp:\n",
    "                tmp[word] = 0\n",
    "            tmp[word] += 1\n",
    "        return tmp\n",
    "\n",
    "    def add_ngram(self, n):\n",
    "        idx = 0\n",
    "        for doc in self.docs:\n",
    "            ngram = self.generate_ngram(n, self.titles[idx])\n",
    "            seg_list = seg_list + ngram\n",
    "            idx += 1\n",
    "\n",
    "    def generate_ngram(self, n, sentence):\n",
    "        return [sentence[i:i + n] for i in range(0, len(sentence) - 1)]"
   ]
  },
  {
   "cell_type": "code",
   "execution_count": null,
   "metadata": {},
   "outputs": [],
   "source": [
    "df_train =pd.read_csv('/home/kesci/input/bytedance/train_final.csv',names=['qId','q','aId','a','target'],nrows=50000000)\n",
    "df_test =pd.read_csv('/home/kesci/input/bytedance/bytedance_contest.final_2.csv',names=['qId','q','aId','a'])"
   ]
  },
  {
   "cell_type": "code",
   "execution_count": null,
   "metadata": {},
   "outputs": [],
   "source": [
    "df_train.drop(['qId','aId','target'],axis=1,inplace=True)\n",
    "df_test.drop(['qId','aId'],axis=1,inplace=True)\n",
    "df_test['a']=df_test['a'].apply(lambda x:x[:-1])\n",
    "docs=pd.concat([df_train['q'],df_train['a'],df_test['q'],df_test['a']])"
   ]
  },
  {
   "cell_type": "code",
   "execution_count": null,
   "metadata": {},
   "outputs": [],
   "source": [
    "docs=pd.DataFrame(docs)\n",
    "docs.columns=['doc']\n",
    "docs=docs.drop_duplicates([\"doc\"],keep=\"first\")#去重\n",
    "docs['doc']=docs['doc'].apply(lambda x:x.split())\n",
    "docs=docs['doc'].tolist() \n",
    "bm25Scorer = bm25_Scorer(docs=docs)"
   ]
  },
  {
   "cell_type": "code",
   "execution_count": null,
   "metadata": {},
   "outputs": [],
   "source": [
    "df_train['bm25_q1_to_q2'] = df_train[['q', 'a']].apply(lambda row: bm25Scorer.sim(row['q'], row['a']), axis=1)\n",
    "df_train['bm25_q2_to_q1'] = df_train[['q', 'a']].apply(lambda row: bm25Scorer.sim(row['a'], row['q']), axis=1)\n",
    "df_test['bm25_q1_to_q2'] = df_test[['q', 'a']].apply(lambda row: bm25Scorer.sim(row['q'], row['a']), axis=1)\n",
    "df_test['bm25_q2_to_q1'] = df_test[['q', 'a']].apply(lambda row: bm25Scorer.sim(row['a'], row['q']), axis=1)"
   ]
  },
  {
   "cell_type": "code",
   "execution_count": null,
   "metadata": {},
   "outputs": [],
   "source": [
    "df_train.drop(['q','a'],axis=1,inplace=True)\n",
    "df_test.drop(['q','a'],axis=1,inplace=True)\n",
    "train.to_csv('/home/kesci/work/train_feature_bm25_final.csv',index=False)\n",
    "test.to_csv('/home/kesci/work/test_feature_bm25_final.csv',index=False)"
   ]
  }
 ],
 "metadata": {
  "kernelspec": {
   "display_name": "Python 3",
   "language": "python",
   "name": "python3"
  },
  "language_info": {
   "codemirror_mode": {
    "name": "ipython",
    "version": 3
   },
   "file_extension": ".py",
   "mimetype": "text/x-python",
   "name": "python",
   "nbconvert_exporter": "python",
   "pygments_lexer": "ipython3",
   "version": "3.6.7"
  }
 },
 "nbformat": 4,
 "nbformat_minor": 2
}
