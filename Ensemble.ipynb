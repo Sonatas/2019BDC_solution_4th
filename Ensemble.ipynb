{
 "cells": [
  {
   "cell_type": "code",
   "execution_count": null,
   "metadata": {},
   "outputs": [],
   "source": [
    "import pandas as pd\n",
    "test =pd.read_csv('/home/kesci/input/bytedance/bytedance_contest.final_2.csv',names=['qId','q','aId','a'])\n",
    "idx=test[['qId','aId']]\n",
    "sub1=pd.read_csv('/home/kesci/work/lgb_final.csv')\n",
    "sub2=pd.read_csv('/home/kesci/work/nn1_final.csv')\n",
    "sub4=pd.read_csv('/home/kesci/work/nn4_final.csv')\n",
    "sub5=pd.read_csv('/home/kesci/work/nnsima_final.csv')\n",
    "sub6=pd.read_csv('/home/kesci/work/nndssm_final.csv')\n",
    "sub7=pd.read_csv('/home/kesci/work/nnda_final.csv')\n",
    "x=0.28*sub1['0']+0.08*sub2['0']+0.37*sub4['0']+0.08*sub5['0']+0.09*sub6['0']+0.1*sub7['0']#62838\n",
    "result=pd.concat([idx,x],axis=1)\n",
    "result.to_csv('result.csv',index=False,header=0)"
   ]
  }
 ],
 "metadata": {
  "kernelspec": {
   "display_name": "Python 3",
   "language": "python",
   "name": "python3"
  },
  "language_info": {
   "codemirror_mode": {
    "name": "ipython",
    "version": 3
   },
   "file_extension": ".py",
   "mimetype": "text/x-python",
   "name": "python",
   "nbconvert_exporter": "python",
   "pygments_lexer": "ipython3",
   "version": "3.6.7"
  }
 },
 "nbformat": 4,
 "nbformat_minor": 2
}
