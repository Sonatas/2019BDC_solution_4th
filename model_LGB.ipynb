{
 "cells": [
  {
   "cell_type": "code",
   "execution_count": null,
   "metadata": {},
   "outputs": [],
   "source": [
    "import pandas as pd\n",
    "import numpy as np\n",
    "from scipy import sparse as ssp\n",
    "from sklearn.model_selection import KFold\n",
    "from sklearn.datasets import dump_svmlight_file,load_svmlight_file\n",
    "from sklearn.utils import resample,shuffle\n",
    "from sklearn.preprocessing import MinMaxScaler\n",
    "from sklearn.metrics import log_loss\n",
    "import lightgbm as lgb\n",
    "import gc"
   ]
  },
  {
   "cell_type": "code",
   "execution_count": null,
   "metadata": {},
   "outputs": [],
   "source": [
    "seed=1024\n",
    "np.random.seed(seed)\n",
    "train_frq=pd.read_csv('/home/kesci/work/train_feature_freq_final.csv',nrows=50000000)\n",
    "train_bm25=pd.read_csv('/home/kesci/work/train_feature_bm25_final.csv')\n",
    "train_pr=pd.read_csv('/home/kesci/work/train_feature_pr_final.csv')\n",
    "train_ShareR=pd.read_csv('/home/kesci/work/train_feature_ShareR_final.csv')\n",
    "train_ws=pd.read_csv('/home/kesci/work/train_feature_ws_final.csv')\n",
    "train_oof=pd.read_csv('/home/kesci/work/train_feature_oof_final.csv')\n",
    "train_CTR=pd.read_csv('/home/kesci/work/train_feature_CTR_final.csv')\n",
    "train_dflib=pd.read_csv('/home/kesci/work/train_feature_difflib_final.csv')\n",
    "train_w2vdis=pd.read_csv('/home/kesci/work/train_feature_w2vdis_final.csv')\n",
    "\n",
    "test_frq=pd.read_csv('/home/kesci/work/test_feature_freq_final.csv')\n",
    "test_bm25=pd.read_csv('/home/kesci/work/test_feature_bm25_final.csv')\n",
    "test_pr=pd.read_csv('/home/kesci/work/test_feature_pr_final.csv')\n",
    "test_ShareR=pd.read_csv('/home/kesci/work/test_feature_ShareR_final.csv')\n",
    "test_ws=pd.read_csv('/home/kesci/work/test_feature_ws_final.csv')\n",
    "test_oof=pd.read_csv('/home/kesci/work/test_feature_oof_final.csv')\n",
    "test_CTR=pd.read_csv('/home/kesci/work/test_feature_CTR_final.csv')\n",
    "test_dflib=pd.read_csv('/home/kesci/work/test_feature_difflib_final.csv')\n",
    "test_w2vdis=pd.read_csv('/home/kesci/work/test_feature_w2vdis_final.csv')"
   ]
  },
  {
   "cell_type": "code",
   "execution_count": null,
   "metadata": {},
   "outputs": [],
   "source": [
    "train=pd.concat([\n",
    "                train_frq,\n",
    "                train_pr,\n",
    "                train_bm25,\n",
    "                train_ShareR,\n",
    "                train_ws,\n",
    "                train_oof,\n",
    "                train_CTR,\n",
    "                train_dflib,\n",
    "                train_w2vdis,\n",
    "                #train_worddiff,\n",
    "                ],axis=1)\n",
    "test=pd.concat([\n",
    "                test_frq,\n",
    "                test_pr,\n",
    "                test_bm25,\n",
    "                test_ShareR,\n",
    "                test_ws,\n",
    "                test_oof,\n",
    "                test_CTR,\n",
    "                test_dflib,\n",
    "                test_w2vdis,\n",
    "                #test_worddiff,\n",
    "                ],axis=1)"
   ]
  },
  {
   "cell_type": "code",
   "execution_count": null,
   "metadata": {},
   "outputs": [],
   "source": [
    "del train_frq,\n",
    "del train_pr,\n",
    "del train_bm25,\n",
    "del train_ShareR,\n",
    "del train_ws,\n",
    "del train_oof,\n",
    "del train_CTR,\n",
    "del train_dflib,\n",
    "del train_w2vdis\n",
    "#del train_worddiff\n",
    "\n",
    "del test_frq,\n",
    "del test_pr,\n",
    "del test_bm25,\n",
    "del test_ShareR,\n",
    "del test_ws,\n",
    "del test_oof,\n",
    "del test_CTR,\n",
    "del test_dflib,\n",
    "del test_w2vdis"
   ]
  },
  {
   "cell_type": "code",
   "execution_count": null,
   "metadata": {},
   "outputs": [],
   "source": [
    "gc.collect()\n",
    "n_fold = 5\n",
    "kf = KFold( n_splits=n_fold, shuffle=True, random_state=2017)\n",
    "y=pd.read_csv('/home/kesci/input/bytedance/train_final.csv',names=['qId','q','aId','a','target'],nrows=50000000)['target']\n",
    "params = {\n",
    "    'boosting_type': 'gbdt',\n",
    "    'objective': 'binary',\n",
    "    'metric': 'binary_logloss',\n",
    "    'num_leaves': 32,\n",
    "    'learning_rate': 0.01,\n",
    "    'feature_fraction': 0.75,\n",
    "    'bagging_fraction': 0.8,\n",
    "    'bagging_freq': 5,\n",
    "    'verbose': 0,\n",
    "    'save_binary': True,\n",
    "    'min_data_in_leaf': 100,\n",
    "    'device':'gpu',\n",
    "    'gpu_platform_id':0,\n",
    "    'gpu_device_id':0\n",
    "}\n",
    "n = 0\n",
    "gc.collect()"
   ]
  },
  {
   "cell_type": "code",
   "execution_count": null,
   "metadata": {},
   "outputs": [],
   "source": [
    "for flod_, (index_train,index_eval) in enumerate(kf.split(train.values,y.values)):\n",
    "    x_train, x_eval = train.iloc[index_train], train.iloc[index_eval]\n",
    "    y_train, y_eval = y[index_train], y[index_eval]\n",
    "    lgb_train = lgb.Dataset(x_train, y_train)\n",
    "    lgb_eval = lgb.Dataset(x_eval, y_eval, reference=lgb_train)\n",
    "    \n",
    "    gbm = lgb.train(params,\n",
    "                    lgb_train,\n",
    "                    num_boost_round=10000,\n",
    "                    valid_sets=[lgb_eval],\n",
    "                    verbose_eval=100,\n",
    "                    early_stopping_rounds=200)\n",
    "    gc.collect()\n",
    "    print('start predicting on test...')\n",
    "    testpreds = gbm.predict(test.values, num_iteration=gbm.best_iteration)\n",
    "    if n > 0:\n",
    "        totalpreds = totalpreds + testpreds\n",
    "    else:\n",
    "        totalpreds = testpreds\n",
    "        gc.collect()\n",
    "    n += 1\n",
    "sub=pd.DataFrame()\n",
    "sub['0']=totalpreds.reshape(-1,1)/5\n",
    "sub.to_csv('/home/kesci/work/lgb_final.csv',index=False)"
   ]
  },
  {
   "cell_type": "code",
   "execution_count": null,
   "metadata": {},
   "outputs": [],
   "source": []
  },
  {
   "cell_type": "code",
   "execution_count": null,
   "metadata": {},
   "outputs": [],
   "source": []
  }
 ],
 "metadata": {
  "kernelspec": {
   "display_name": "Python 3",
   "language": "python",
   "name": "python3"
  },
  "language_info": {
   "codemirror_mode": {
    "name": "ipython",
    "version": 3
   },
   "file_extension": ".py",
   "mimetype": "text/x-python",
   "name": "python",
   "nbconvert_exporter": "python",
   "pygments_lexer": "ipython3",
   "version": "3.6.7"
  }
 },
 "nbformat": 4,
 "nbformat_minor": 2
}
