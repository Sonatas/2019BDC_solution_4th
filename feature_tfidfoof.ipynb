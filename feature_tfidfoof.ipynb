{
 "cells": [
  {
   "cell_type": "code",
   "execution_count": null,
   "metadata": {},
   "outputs": [],
   "source": [
    "import numpy as np\n",
    "import pandas as pd\n",
    "from sklearn.feature_extraction.text import CountVectorizer, TfidfVectorizer, TfidfTransformer\n",
    "import gc\n",
    "from sklearn.decomposition import LatentDirichletAllocation\n",
    "from sklearn.decomposition import TruncatedSVD\n",
    "from gensim.models import LdaModel\n",
    "import sys\n",
    "from sklearn.feature_extraction.text import TfidfVectorizer\n",
    "from sklearn.model_selection import KFold\n",
    "from sklearn.linear_model import LogisticRegression\n",
    "from sklearn.linear_model import SGDClassifier\n",
    "from sklearn.linear_model import PassiveAggressiveClassifier\n",
    "from sklearn.linear_model import RidgeClassifier\n",
    "from sklearn.naive_bayes import BernoulliNB\n",
    "from sklearn.naive_bayes import MultinomialNB\n",
    "from sklearn.svm import LinearSVC\n",
    "from sklearn.metrics import mean_squared_erro"
   ]
  },
  {
   "cell_type": "code",
   "execution_count": null,
   "metadata": {},
   "outputs": [],
   "source": [
    "df_train =pd.read_csv('/home/kesci/input/bytedance/train_final.csv',names=['qId','q','aId','a','target'],nrows=50000000)\n",
    "df_test=pd.read_csv('/home/kesci/input/bytedance/bytedance_contest.final_2.csv',names=['qId','q','aId','a'])\n",
    "\n",
    "df_test['a']=df_test['a'].apply(lambda x:x[:-1])"
   ]
  },
  {
   "cell_type": "code",
   "execution_count": null,
   "metadata": {},
   "outputs": [],
   "source": [
    "doc=pd.concat([df_train['q'],df_train['a'],df_test['q'],df_test['a']])\n",
    "print(len(doc))\n",
    "doc=pd.DataFrame(doc,columns=['docs'])\n",
    "doc=doc.drop_duplicates([\"docs\"],keep=\"first\")\n",
    "tfidf = TfidfVectorizer(min_df=8)\n",
    "tfidf.fit(doc[\"docs\"])\n",
    "del doc\n",
    "gc.collect()"
   ]
  },
  {
   "cell_type": "code",
   "execution_count": null,
   "metadata": {},
   "outputs": [],
   "source": [
    "m_q1_tf=tfidf.transform(pd.Series(df_train['q'].tolist()))\n",
    "m_q2_tf=tfidf.transform(pd.Series(df_train['a'].tolist()))\n",
    "e_q1_tf=tfidf.transform(pd.Series(df_test['q'].tolist()))\n",
    "e_q2_tf=tfidf.transform(pd.Series(df_test['a'].tolist()))"
   ]
  },
  {
   "cell_type": "code",
   "execution_count": null,
   "metadata": {},
   "outputs": [],
   "source": [
    "from scipy import sparse\n",
    "test_feature=sparse.csc_matrix(sparse.hstack((e_q1_tf, e_q2_tf)))\n",
    "del tfidf,df_test\n",
    "gc.collect()\n",
    "del e_q1_tf,e_q2_tf\n",
    "gc.collect()\n",
    "target=df_train['target']\n",
    "del df_train\n",
    "gc.collect()\n",
    "train_feature=sparse.csc_matrix(sparse.hstack((m_q1_tf, m_q2_tf)))\n",
    "del m_q1_tf,m_q2_tf\n",
    "gc.collect()"
   ]
  },
  {
   "cell_type": "code",
   "execution_count": null,
   "metadata": {},
   "outputs": [],
   "source": [
    "def sgdstacking():\n",
    "    gc.collect()\n",
    "    print('sgd stacking')\n",
    "    df_stack=pd.DataFrame()\n",
    "    folds = KFold(n_splits=5, shuffle=True, random_state=15)\n",
    "    n_folds=5\n",
    "    stack_train = np.zeros([train_feature.shape[0], 2])\n",
    "    stack_test = np.zeros([test_feature.shape[0], 2])\n",
    "    score_va=0\n",
    "    folds = KFold(n_splits=5, shuffle=True, random_state=15)\n",
    "    for i, (tr, va) in enumerate(folds.split(target.values)):\n",
    "        print('stack:%d/%d' % ((i + 1), n_folds))\n",
    "        sgd = SGDClassifier(random_state=1017, \n",
    "                            verbose=1,\n",
    "                            loss='log',\n",
    "                            penalty='elasticnet',\n",
    "                            shuffle=True,\n",
    "                            n_jobs=3,\n",
    "                            l1_ratio=0.0001,\n",
    "                            alpha=1e-05,\n",
    "                            class_weight=None)\n",
    "        gc.collect()\n",
    "        sgd.fit(train_feature[tr], target.iloc[tr])\n",
    "        score_va = sgd.predict_proba(train_feature[va])\n",
    "        score_te = sgd.predict_proba(test_feature)\n",
    "        print('得分' + str(mean_squared_error(target.iloc[va], sgd.predict(train_feature[va]))))\n",
    "        stack_train[va] = score_va\n",
    "        stack_test += score_te\n",
    "    stack_test /= n_folds\n",
    "    stack = np.vstack([stack_train, stack_test])\n",
    "    for i in range(stack.shape[1]):\n",
    "        df_stack['tfC_sgd_{}'.format(i)] = stack[:, i]\n",
    "    print('sgd done')\n",
    "    return df_stack"
   ]
  },
  {
   "cell_type": "code",
   "execution_count": null,
   "metadata": {},
   "outputs": [],
   "source": [
    "def ridgestacking():\n",
    "    gc.collect()\n",
    "    print('Ridge stacking')\n",
    "    df_stack=pd.DataFrame()\n",
    "    folds = KFold(n_splits=5, shuffle=True, random_state=15)\n",
    "    n_folds=5\n",
    "    stack_train = np.zeros([train_feature.shape[0], 2])\n",
    "    stack_test = np.zeros([test_feature.shape[0], 2])\n",
    "    score_va=0\n",
    "    folds = KFold(n_splits=5, shuffle=True, random_state=15)\n",
    "    for i, (tr, va) in enumerate(folds.split(target.values)):\n",
    "        print('stack:%d/%d' % ((i + 1), n_folds))\n",
    "        ridge = RidgeClassifier(random_state=1017,solver='sag',)\n",
    "        ridge.fit(train_feature[tr], target.iloc[tr])\n",
    "        score_va = ridge._predict_proba_lr(train_feature[va])\n",
    "        score_te = ridge._predict_proba_lr(test_feature)\n",
    "        print('得分' + str(mean_squared_error(target.iloc[va], ridge.predict(train_feature[va]))))\n",
    "        stack_train[va] += score_va\n",
    "        stack_test += score_te\n",
    "    stack_test /= n_folds\n",
    "    stack = np.vstack([stack_train, stack_test])\n",
    "    for i in range(stack.shape[1]):\n",
    "        df_stack['tfV_ridge_{}'.format(i)] = stack[:, i]\n",
    "    print('ridge done')\n",
    "    return df_stack"
   ]
  },
  {
   "cell_type": "code",
   "execution_count": null,
   "metadata": {},
   "outputs": [],
   "source": [
    "sgd_stack=sgdstacking()\n",
    "ridgestacking=ridgestacking()\n",
    "result=pd.concat([ridgestacking,sgd_stack],axis=1)\n",
    "result.drop(['tfV_ridge_0','tfC_sgd_0'],axis=1,inplace=True)\n",
    "train=result.iloc[0:50000000,:]\n",
    "test=result.iloc[50000000:,:]"
   ]
  },
  {
   "cell_type": "code",
   "execution_count": null,
   "metadata": {},
   "outputs": [],
   "source": [
    "train.to_csv('/home/kesci/work/train_feature_oof_final.csv',index=False)\n",
    "test.to_csv('/home/kesci/work/test_feature_oof_final.csv',index=False)"
   ]
  },
  {
   "cell_type": "code",
   "execution_count": null,
   "metadata": {},
   "outputs": [],
   "source": []
  },
  {
   "cell_type": "code",
   "execution_count": null,
   "metadata": {},
   "outputs": [],
   "source": []
  }
 ],
 "metadata": {
  "kernelspec": {
   "display_name": "Python 3",
   "language": "python",
   "name": "python3"
  },
  "language_info": {
   "codemirror_mode": {
    "name": "ipython",
    "version": 3
   },
   "file_extension": ".py",
   "mimetype": "text/x-python",
   "name": "python",
   "nbconvert_exporter": "python",
   "pygments_lexer": "ipython3",
   "version": "3.6.7"
  }
 },
 "nbformat": 4,
 "nbformat_minor": 2
}
