{
 "cells": [
  {
   "cell_type": "code",
   "execution_count": null,
   "metadata": {},
   "outputs": [],
   "source": [
    "import pandas as pd\n",
    "import gc\n",
    "df_train =pd.read_csv('/home/kesci/input/bytedance/train_final.csv',names=['qId','q','aId','a','target'],nrows=50000000)\n",
    "df_test =pd.read_csv('/home/kesci/input/bytedance/bytedance_contest.final_2.csv',names=['qId','q','aId','a'])\n",
    "df_test['a']=df_test['a'].apply(lambda x:x[:-1])\n",
    "gc.collect()"
   ]
  },
  {
   "cell_type": "code",
   "execution_count": null,
   "metadata": {},
   "outputs": [],
   "source": [
    "def generate_qid_graph_table(row):\n",
    "    hash_key1 = row[\"q\"]\n",
    "    hash_key2 = row[\"a\"]\n",
    "\n",
    "    qid_graph.setdefault(hash_key1, []).append(hash_key2)\n",
    "    qid_graph.setdefault(hash_key2, []).append(hash_key1)"
   ]
  },
  {
   "cell_type": "code",
   "execution_count": null,
   "metadata": {},
   "outputs": [],
   "source": [
    "qid_graph = {}\n",
    "df_train.apply(generate_qid_graph_table, axis=1)\n",
    "df_test.apply(generate_qid_graph_table, axis=1)"
   ]
  },
  {
   "cell_type": "code",
   "execution_count": null,
   "metadata": {},
   "outputs": [],
   "source": [
    "def pagerank():\n",
    "    MAX_ITER = 35\n",
    "    d = 0.85\n",
    "\n",
    "    pagerank_dict = {i: 1 / len(qid_graph) for i in qid_graph}\n",
    "    num_nodes = len(pagerank_dict)\n",
    "\n",
    "    for iter in range(0, MAX_ITER):\n",
    "        print(iter)\n",
    "        for node in qid_graph:\n",
    "            local_pr = 0\n",
    "\n",
    "            for neighbor in qid_graph[node]:\n",
    "                local_pr += pagerank_dict[neighbor] / len(qid_graph[neighbor])\n",
    "\n",
    "            pagerank_dict[node] = (1 - d) / num_nodes + d * local_pr\n",
    "\n",
    "    return pagerank_dict"
   ]
  },
  {
   "cell_type": "code",
   "execution_count": null,
   "metadata": {},
   "outputs": [],
   "source": [
    "pagerank_dict = pagerank()"
   ]
  },
  {
   "cell_type": "code",
   "execution_count": null,
   "metadata": {},
   "outputs": [],
   "source": [
    "import pickle\n",
    "def save_obj(obj, name ):\n",
    "    with open( name + '.pkl', 'wb') as f:\n",
    "        pickle.dump(obj, f, pickle.HIGHEST_PROTOCOL)\n",
    "save_obj(pagerank_dict,'pagerank')"
   ]
  },
  {
   "cell_type": "code",
   "execution_count": null,
   "metadata": {},
   "outputs": [],
   "source": [
    "import pickle\n",
    "import pandas as pd\n",
    "import gc\n",
    "def load_obj(name ):\n",
    "    with open( name + '.pkl', 'rb') as f:\n",
    "        return pickle.load(f)\n",
    "pagerank_dict=load_obj('pagerank')"
   ]
  },
  {
   "cell_type": "code",
   "execution_count": null,
   "metadata": {},
   "outputs": [],
   "source": [
    "def get_pagerank_fun(df):\n",
    "    result=[]\n",
    "    def get_pagerank_value(row):\n",
    "        result.append([pagerank_dict[row[\"q\"]],pagerank_dict[row[\"a\"]]])\n",
    "    print('start')\n",
    "    pr_feats=df.apply(get_pagerank_value, axis=1)\n",
    "    print('done')\n",
    "    return pd.DataFrame(result)"
   ]
  },
  {
   "cell_type": "code",
   "execution_count": null,
   "metadata": {},
   "outputs": [],
   "source": [
    "df_train =pd.read_csv('/home/kesci/input/bytedance/train_final.csv',names=['qId','q','aId','a','target'],nrows=50000000)\n",
    "df_test =pd.read_csv('/home/kesci/input/bytedance/bytedance_contest.final_2.csv',names=['qId','q','aId','a'])\n",
    "df_test['a']=df_test['a'].apply(lambda x:x[:-1])"
   ]
  },
  {
   "cell_type": "code",
   "execution_count": null,
   "metadata": {},
   "outputs": [],
   "source": [
    "df1=df_train[['q','a']].iloc[0:10000000,]\n",
    "df2=df_train[['q','a']].iloc[10000000:20000000,]\n",
    "df3=df_train[['q','a']].iloc[20000000:30000000,]\n",
    "df4=df_train[['q','a']].iloc[30000000:40000000,]\n",
    "df5=df_train[['q','a']].iloc[40000000:50000000,]\n",
    "\n",
    "df6=df_test[['q','a']].iloc[0:10000000,]\n",
    "df7=df_test[['q','a']].iloc[10000000:20000000,]\n",
    "df8=df_test[['q','a']].iloc[20000000:30000000,]\n",
    "df9=df_test[['q','a']].iloc[30000000:40000000,]\n",
    "df10=df_test[['q','a']].iloc[40000000:50000000,]\n",
    "df11=df_test[['q','a']].iloc[50000000:60000000,]\n",
    "df12=df_test[['q','a']].iloc[60000000:70000000,]\n",
    "df13=df_test[['q','a']].iloc[70000000:80000000,]\n",
    "df14=df_test[['q','a']].iloc[80000000:90000000,]\n",
    "df15=df_test[['q','a']].iloc[90000000:,]"
   ]
  },
  {
   "cell_type": "code",
   "execution_count": null,
   "metadata": {},
   "outputs": [],
   "source": [
    "del df_train,df_test\n",
    "from multiprocessing import cpu_count\n",
    "from multiprocessing import Pool\n",
    "print(cpu_count())"
   ]
  },
  {
   "cell_type": "code",
   "execution_count": null,
   "metadata": {},
   "outputs": [],
   "source": [
    "p= Pool(15)\n",
    "df1=p.apply_async(get_pagerank_fun, args=(df1,))\n",
    "df2=p.apply_async(get_pagerank_fun, args=(df2,))\n",
    "df3=p.apply_async(get_pagerank_fun, args=(df3,))\n",
    "df4=p.apply_async(get_pagerank_fun, args=(df4,))\n",
    "df5=p.apply_async(get_pagerank_fun, args=(df5,))\n",
    "df6=p.apply_async(get_pagerank_fun, args=(df6,))\n",
    "df7=p.apply_async(get_pagerank_fun, args=(df7,))\n",
    "df8=p.apply_async(get_pagerank_fun, args=(df8,))\n",
    "df9=p.apply_async(get_pagerank_fun, args=(df9,))\n",
    "df10=p.apply_async(get_pagerank_fun, args=(df10,))\n",
    "df11=p.apply_async(get_pagerank_fun, args=(df11,))\n",
    "df12=p.apply_async(get_pagerank_fun, args=(df12,))\n",
    "df13=p.apply_async(get_pagerank_fun, args=(df13,))\n",
    "df14=p.apply_async(get_pagerank_fun, args=(df14,))\n",
    "df15=p.apply_async(get_pagerank_fun, args=(df15,))\n",
    "p.close()\n",
    "p.join()"
   ]
  },
  {
   "cell_type": "code",
   "execution_count": null,
   "metadata": {},
   "outputs": [],
   "source": [
    "df1=df1.get()\n",
    "df2=df2.get()\n",
    "df3=df3.get()\n",
    "df4=df4.get()\n",
    "df5=df5.get()\n",
    "df6=df6.get()\n",
    "df7=df7.get()\n",
    "df8=df8.get()\n",
    "df9=df9.get()\n",
    "df10=df10.get()\n",
    "df11=df11.get()\n",
    "df12=df12.get()\n",
    "df13=df13.get()\n",
    "df14=df14.get()\n",
    "df15=df15.get()"
   ]
  },
  {
   "cell_type": "code",
   "execution_count": null,
   "metadata": {},
   "outputs": [],
   "source": [
    "train_pr=pd.concat([df1,df2,df3,df4,df5])\n",
    "test_pr=pd.concat([df6,df7,df8,df9,df10,df11,df12,df13,df14,df15])\n",
    "test_pr.columns=['pr_q','pr_a']\n",
    "train_pr.columns=['pr_q','pr_a']\n",
    "test_pr=test_pr*100000000\n",
    "train_pr=train_pr*100000000\n",
    "train_pr.to_csv('/home/kesci/work/train_feature_pr_final.csv',index=False)\n",
    "test_pr.to_csv('/home/kesci/work/test_feature_pr_final.csv',index=False)"
   ]
  },
  {
   "cell_type": "code",
   "execution_count": null,
   "metadata": {},
   "outputs": [],
   "source": []
  }
 ],
 "metadata": {
  "kernelspec": {
   "display_name": "Python 3",
   "language": "python",
   "name": "python3"
  },
  "language_info": {
   "codemirror_mode": {
    "name": "ipython",
    "version": 3
   },
   "file_extension": ".py",
   "mimetype": "text/x-python",
   "name": "python",
   "nbconvert_exporter": "python",
   "pygments_lexer": "ipython3",
   "version": "3.6.7"
  }
 },
 "nbformat": 4,
 "nbformat_minor": 2
}
